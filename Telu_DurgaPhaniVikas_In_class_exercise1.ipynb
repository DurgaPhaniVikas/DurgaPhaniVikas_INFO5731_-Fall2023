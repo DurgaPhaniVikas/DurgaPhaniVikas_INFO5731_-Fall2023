{
  "cells": [
    {
      "cell_type": "markdown",
      "metadata": {
        "id": "view-in-github",
        "colab_type": "text"
      },
      "source": [
        "<a href=\"https://colab.research.google.com/github/DurgaPhaniVikas/DurgaPhaniVikas_INFO5731_-Fall2023/blob/main/Telu_DurgaPhaniVikas_In_class_exercise1.ipynb\" target=\"_parent\"><img src=\"https://colab.research.google.com/assets/colab-badge.svg\" alt=\"Open In Colab\"/></a>"
      ]
    },
    {
      "cell_type": "markdown",
      "metadata": {
        "id": "DymRJbxDBCnf"
      },
      "source": [
        "# **The first In-class-exercise (08/30/2023, 40 points in total)**\n",
        "This exercise is due tomorrow 08/31/203 11:59 PM.\n"
      ]
    },
    {
      "cell_type": "markdown",
      "source": [
        "(1) Write a Python program to calculate the area of a rectangle using user-input length and width."
      ],
      "metadata": {
        "id": "FBKvD6O_TY6e"
      }
    },
    {
      "cell_type": "code",
      "source": [
        "b= float(input(\"Enter the breadth of the rectangle \\n\"))\n",
        "l= float(input(\"Enter the length of the rectangle \\n\"))\n",
        "area= l*b #taking length and breadth form the user and multiplying them using * to get the area of rectangle\n",
        "print(\"The are of the rectangle is \\n\",area)"
      ],
      "metadata": {
        "id": "cikVKDXdTbzE",
        "colab": {
          "base_uri": "https://localhost:8080/"
        },
        "outputId": "bb2a5ae9-a692-4466-af2b-124cbe3ddce1"
      },
      "execution_count": 87,
      "outputs": [
        {
          "output_type": "stream",
          "name": "stdout",
          "text": [
            "Enter the breadth of the rectangle \n",
            "5\n",
            "Enter the length of the rectangle \n",
            "3\n",
            "The are of the rectangle is \n",
            " 15.0\n"
          ]
        }
      ]
    },
    {
      "cell_type": "markdown",
      "source": [
        "(2) Create a program that takes two numbers from the user and swaps their values without using a temporary variable."
      ],
      "metadata": {
        "id": "E9RqrlwdTfvl"
      }
    },
    {
      "cell_type": "code",
      "source": [
        "a= float(input(\"Enter the first number \\n\"))\n",
        "b= float(input(\"Enter the second number \\n\"))\n",
        "c=a\n",
        "a=b\n",
        "b=c # Here we are swaping the values a and b by replacing them with the help of another variable c\n",
        "print(\"The swaped values of a and b are \\n\" ,a,b)"
      ],
      "metadata": {
        "id": "4XvRknixTh1g",
        "colab": {
          "base_uri": "https://localhost:8080/"
        },
        "outputId": "0d4b47db-97e8-43c8-84b1-44dfa5609d3a"
      },
      "execution_count": 89,
      "outputs": [
        {
          "output_type": "stream",
          "name": "stdout",
          "text": [
            "Enter the first number \n",
            "5\n",
            "Enter the second number \n",
            "3\n",
            "The swaped values of a and b are \n",
            " 3.0 5.0\n"
          ]
        }
      ]
    },
    {
      "cell_type": "markdown",
      "metadata": {
        "id": "03jb4GZsBkBS"
      },
      "source": [
        "(3) Write a Python program to calculate the length of a string."
      ]
    },
    {
      "cell_type": "code",
      "execution_count": 91,
      "metadata": {
        "id": "YaGLbSHHB8Ej",
        "colab": {
          "base_uri": "https://localhost:8080/"
        },
        "outputId": "17de8628-c4f5-4fea-bbaa-5eb106c2ecf4"
      },
      "outputs": [
        {
          "output_type": "stream",
          "name": "stdout",
          "text": [
            "Enter the string ton caluculate the length \n",
            "I am King\n",
            "9\n"
          ]
        }
      ],
      "source": [
        "a= input(\"Enter the string ton caluculate the length \\n\")\n",
        "print(len(a)) #here we are using length function to get the length of the string"
      ]
    },
    {
      "cell_type": "markdown",
      "metadata": {
        "id": "jJDe71iLB616"
      },
      "source": [
        "(4) Write a Python program to count the number of characters in a string.\n",
        "\n",
        "Sample String : 'google.com‘,\n",
        "\n",
        "Expected Result : {'o': 3, 'g': 2, '.': 1, 'e': 1, 'l': 1, 'm': 1, 'c': 1}"
      ]
    },
    {
      "cell_type": "code",
      "execution_count": 96,
      "metadata": {
        "id": "MtKskTzbCLaU",
        "colab": {
          "base_uri": "https://localhost:8080/"
        },
        "outputId": "684fc9e0-9615-453b-cb96-652e7d6fce73"
      },
      "outputs": [
        {
          "output_type": "stream",
          "name": "stdout",
          "text": [
            "{'o': 3, 'm': 1, 'l': 1, 'g': 2, 'e': 1, 'c': 1, '.': 1}\n"
          ]
        }
      ],
      "source": [
        "Sample_string= 'google.com'\n",
        "count_dict={}\n",
        "for char in Sample_string: #here we are iterating each charecter from the string throgh the loop to get the count of each charecter\n",
        "    if char in count_dict:\n",
        "        count_dict[char] += 1\n",
        "    else:\n",
        "        count_dict[char] = 1\n",
        "print(dict(sorted(count_dict.items(), reverse=True)))"
      ]
    },
    {
      "cell_type": "markdown",
      "metadata": {
        "id": "55W9AMdXCSpV"
      },
      "source": [
        "(5) Write a Python program to sum all the items in a list."
      ]
    },
    {
      "cell_type": "code",
      "execution_count": 98,
      "metadata": {
        "id": "I57NXsauCec2",
        "colab": {
          "base_uri": "https://localhost:8080/"
        },
        "outputId": "957cd2b7-abe3-447f-a72f-37086f9d5eb6"
      },
      "outputs": [
        {
          "output_type": "stream",
          "name": "stdout",
          "text": [
            "Sum of items in the list: 6\n"
          ]
        }
      ],
      "source": [
        "sample_list= [1,2,3]\n",
        "sum_of_items = 0\n",
        "for item in sample_list: #we are iterating each element from the list through loop to get the sum of elements\n",
        "    sum_of_items += item\n",
        "print(\"Sum of items in the list:\", sum_of_items)"
      ]
    },
    {
      "cell_type": "markdown",
      "metadata": {
        "id": "4ulBZ6yhCi9F"
      },
      "source": [
        "(6) Write a Python program to get a string from a given string where all occurrences of its first char have been changed to '\\$', except the first char itself.\n",
        "\n",
        "Sample String : 'restart‘,\n",
        "\n",
        "Expected Result : 'resta\\$t'"
      ]
    },
    {
      "cell_type": "code",
      "execution_count": 34,
      "metadata": {
        "id": "Fj0XhwbBCw2o",
        "colab": {
          "base_uri": "https://localhost:8080/"
        },
        "outputId": "74135da4-43ec-4263-879c-0e19fed9be70"
      },
      "outputs": [
        {
          "output_type": "stream",
          "name": "stdout",
          "text": [
            "Final output string: resta$t\n"
          ]
        }
      ],
      "source": [
        "sample_string = 'restart'\n",
        "if sample_string:\n",
        "    first_char = sample_string[0] ## here we are taking the fisrt charecter from the string\n",
        "    result = first_char + sample_string[1:].replace(first_char, '$')\n",
        "    ## here we are using replace function to replace all the charecters same as first charecter in the given sample_string\n",
        "    ##excluding first charecter\n",
        "    print(\"Final output string:\", result)"
      ]
    },
    {
      "cell_type": "markdown",
      "source": [
        "(7) Create a program that calculates the factorial of a number using a while loop."
      ],
      "metadata": {
        "id": "qVXA3q7ET5JI"
      }
    },
    {
      "cell_type": "code",
      "source": [
        "a = int(input(\"Enter the number: \"))\n",
        "if a < 0:\n",
        "    print(\"Factorial is not possible if the number is negetive\")\n",
        "    # Factorial is not possible if the number is negitive\n",
        "else:\n",
        "  fact = 1 #here we are initializing the fact value to 1 to start the factorial\n",
        "  i = 1\n",
        "  while i <= a:# here we are using while loop to calculate factorial\n",
        "    fact *= i\n",
        "    i += 1\n",
        "print(\"The factorial of given number is\",fact)"
      ],
      "metadata": {
        "id": "Lbt7R6UkT7BA",
        "colab": {
          "base_uri": "https://localhost:8080/"
        },
        "outputId": "dbc9da50-3d92-4b3a-a007-6fad8aa2343a"
      },
      "execution_count": 69,
      "outputs": [
        {
          "output_type": "stream",
          "name": "stdout",
          "text": [
            "Enter the number: 4\n",
            "The factorial of given number is 24\n"
          ]
        }
      ]
    },
    {
      "cell_type": "markdown",
      "source": [
        "(8) Create a program that takes a list of numbers as input and outputs a new list with only the even numbers."
      ],
      "metadata": {
        "id": "6YfbzXMNT--R"
      }
    },
    {
      "cell_type": "code",
      "source": [
        "sample_list= [] #taking an empty list to take an input from the user\n",
        "n = int(input(\"enter the number of elements:\"))# taking the size of the list as the input\n",
        "for i in range(1,n+1):\n",
        "  element=int(input(\"enter the element \"))\n",
        "  sample_list.append(element)#taking an element from the user and appending it to the sample_list\n",
        "print(\"The input list is \",sample_list)\n",
        "even_items = [] #taking an empty list to put the even numbers\n",
        "\n",
        "for num in sample_list:\n",
        "    if int(num) % 2 == 0:#checking the element in the list is even or not\n",
        "        even_items.append(int(num))#appending it to the even_items list\n",
        "\n",
        "print(\"Even numbers in the sample_list are:\", even_items)\n"
      ],
      "metadata": {
        "id": "54q7wMQPUAKu",
        "colab": {
          "base_uri": "https://localhost:8080/"
        },
        "outputId": "0268f485-9936-490a-cb12-6c674b881033"
      },
      "execution_count": 4,
      "outputs": [
        {
          "output_type": "stream",
          "name": "stdout",
          "text": [
            "enter the number of elements:5\n",
            "enter the element 2\n",
            "enter the element 3\n",
            "enter the element 6\n",
            "enter the element 8\n",
            "enter the element 10\n",
            "The input list is  [2, 3, 6, 8, 10]\n",
            "Even numbers in the sample_list are: [2, 6, 8, 10]\n"
          ]
        }
      ]
    },
    {
      "cell_type": "markdown",
      "metadata": {
        "id": "_bIP7s1MCzue"
      },
      "source": [
        "(9) Write a program with python which could accept two parameter a and b to calculate and output the result of S, where\n",
        "\n",
        "$\\ S=3.14*(1+a/b)^3$\n",
        "\n"
      ]
    },
    {
      "cell_type": "code",
      "execution_count": 7,
      "metadata": {
        "id": "w79QilHXD3Mg",
        "colab": {
          "base_uri": "https://localhost:8080/"
        },
        "outputId": "47c6fcff-9384-4d59-9c1e-13d391a5d516"
      },
      "outputs": [
        {
          "output_type": "stream",
          "name": "stdout",
          "text": [
            "enter the value of a: 2\n",
            "enter the value of b: 3\n",
            "14.537037037037033\n"
          ]
        }
      ],
      "source": [
        "a= float(input(\"enter the value of a: \"))\n",
        "b= float(input(\"enter the value of b: \"))\n",
        "s=3.14*(1+(a/b))**3\n",
        "print(s)\n"
      ]
    },
    {
      "cell_type": "markdown",
      "metadata": {
        "id": "xCa2bK9aD4Q3"
      },
      "source": [
        "(10) Write a Python program to concatenate following dictionaries to create a new one.\n",
        "\n",
        "Sample Dictionary : dic1={1:10, 2:20}, dic2={3:30, 4:40}, dic3={5:50,6:60},\n",
        "\n",
        "Expected Result : {1: 10, 2: 20, 3: 30, 4: 40, 5: 50, 6: 60}\n"
      ]
    },
    {
      "cell_type": "code",
      "execution_count": 24,
      "metadata": {
        "id": "_z4aLqAbEET1",
        "colab": {
          "base_uri": "https://localhost:8080/"
        },
        "outputId": "dea3e0c5-c7a4-4247-927a-1e17509e5cf8"
      },
      "outputs": [
        {
          "output_type": "stream",
          "name": "stdout",
          "text": [
            "Expected result:  {1: 10, 2: 20, 3: 30, 4: 40, 5: 50, 6: 60}\n"
          ]
        }
      ],
      "source": [
        "sample_dict1={1:10,2:20}\n",
        "sample_dict2={3:30,4:40}\n",
        "sample_dict3={5:50,6:60}# three given sample dictionaries were given\n",
        "result= {} #taking a result dictionary and using update function to include all the 3 dictionaries\n",
        "result.update(sample_dict1)\n",
        "result.update(sample_dict2)\n",
        "result.update(sample_dict3)\n",
        "print(\"Expected result: \",result)"
      ]
    },
    {
      "cell_type": "markdown",
      "source": [
        "(11) Write a Python function that accepts a tuple of integers and returns the largest and smallest elements."
      ],
      "metadata": {
        "id": "bkyZ2xSZUOst"
      }
    },
    {
      "cell_type": "code",
      "source": [
        "sample_tuple= (1,2,3,4) #sample tuple taken with 4 integers\n",
        "largest_num=smallest_num=sample_tuple[0] # here we are inigtializing the largest and smallest numbers\n",
        "for item in sample_tuple: # here we are iterating the items in the tuple through for loop get the smallest and largets numbers\n",
        "  if item > largest_num:\n",
        "    largest_num = item\n",
        "  elif item < smallest_num:\n",
        "    smallest_num = item\n",
        "print(\"Largest number in sample_tuple:\", largest_num)\n",
        "print(\"Smallest number in sample_tuple:\", smallest_num)"
      ],
      "metadata": {
        "id": "3FdLRBKOUQEd",
        "colab": {
          "base_uri": "https://localhost:8080/"
        },
        "outputId": "07a8c4c3-9eac-41d8-b78f-359c8c8a3746"
      },
      "execution_count": 99,
      "outputs": [
        {
          "output_type": "stream",
          "name": "stdout",
          "text": [
            "Largest number in sample_tuple: 4\n",
            "Smallest number in sample_tuple: 1\n"
          ]
        }
      ]
    },
    {
      "cell_type": "markdown",
      "source": [
        "(12) Write a Python program that counts the frequency of each character in a given string and stores it in a dictionary."
      ],
      "metadata": {
        "id": "O0TVi3gKUTpp"
      }
    },
    {
      "cell_type": "code",
      "source": [
        "sample_string = input(\"Enter a string: \") #taking a sample input string\n",
        "count_frequency = {} #creating a dictionary to store the charecter frequency\n",
        "for char in sample_string: #iteraring each charecter in the string through the for loop\n",
        "    if char in count_frequency:\n",
        "        count_frequency[char] += 1\n",
        "    else:\n",
        "        # If there is no same charecter found then we are assigning the frequency count to 1\n",
        "        count_frequency[char] = 1\n",
        "# Print the character frequencies\n",
        "print(\"Character frequencies:\")\n",
        "for char, count in count_frequency.items():\n",
        "    print(f\"'{char}': {count}\")"
      ],
      "metadata": {
        "id": "lAtfSfZXUU-h",
        "colab": {
          "base_uri": "https://localhost:8080/"
        },
        "outputId": "416557cb-e8ec-47c8-b65f-8ecd32befbc7"
      },
      "execution_count": 26,
      "outputs": [
        {
          "output_type": "stream",
          "name": "stdout",
          "text": [
            "Enter a string: I am Vikas\n",
            "Character frequencies:\n",
            "'I': 1\n",
            "' ': 2\n",
            "'a': 2\n",
            "'m': 1\n",
            "'V': 1\n",
            "'i': 1\n",
            "'k': 1\n",
            "'s': 1\n"
          ]
        }
      ]
    },
    {
      "cell_type": "markdown",
      "metadata": {
        "id": "0v48Vqa7FrQh"
      },
      "source": [
        "(13) Write a Python program to check whether an element exists within a tuple."
      ]
    },
    {
      "cell_type": "code",
      "execution_count": 29,
      "metadata": {
        "id": "7WEmgq-DF2P1",
        "colab": {
          "base_uri": "https://localhost:8080/"
        },
        "outputId": "983faefe-ac14-47d8-8b75-b747e49dc1fd"
      },
      "outputs": [
        {
          "output_type": "stream",
          "name": "stdout",
          "text": [
            "Enter an element to check: 3\n",
            "sample tuple consists of the element  3\n"
          ]
        }
      ],
      "source": [
        "sample_tuple= (1,2,3,4)\n",
        "input_check_element= int(input(\"Enter an element to check: \"))\n",
        "# Check if the element exists in the tuple\n",
        "if input_check_element in sample_tuple:\n",
        "    print(\"sample tuple consists of the element \",input_check_element)\n",
        "else:\n",
        "    print(\"sample tuple does not consists of the element \",input_check_element)"
      ]
    },
    {
      "cell_type": "markdown",
      "metadata": {
        "id": "vD5PYLMuGga_"
      },
      "source": [
        "(14) Write a Python program to find maximum and the minimum value in a set."
      ]
    },
    {
      "cell_type": "code",
      "execution_count": 32,
      "metadata": {
        "id": "t0D5kdJUGjjw",
        "colab": {
          "base_uri": "https://localhost:8080/"
        },
        "outputId": "30de93d7-3587-49a0-d558-581d94c3cbe4"
      },
      "outputs": [
        {
          "output_type": "stream",
          "name": "stdout",
          "text": [
            "Maximum value in the set: 5\n",
            "Minimum value in the set: 1\n"
          ]
        }
      ],
      "source": [
        "sample_set = {1,2,3,4,5} # sample set is taken with some integer values\n",
        "print(\"Maximum value in the set:\", max(sample_set))\n",
        "print(\"Minimum value in the set:\", min(sample_set))"
      ]
    },
    {
      "cell_type": "markdown",
      "metadata": {
        "id": "uHkd-y5VhVWC"
      },
      "source": [
        "(15) Write a Python program to randomly divide the students in this class into six groups for term projects, each group should have at least 4 students but no more than 6 students (including 6). Here is the students list:\n",
        "student_list_fall_2023=['sb1826' ,\n",
        " 'lb0582' ,\n",
        " 'ab1820' ,\n",
        " 'sb1883' ,\n",
        " 'mb1296' ,\n",
        " 'sc1622' ,\n",
        " 'tc0469' ,\n",
        " 'ac1770' ,\n",
        " 'mc1453' ,\n",
        " 'ad1187' ,\n",
        " 'sd0926' ,\n",
        " 'sd1268' ,\n",
        " 'ag1609' ,\n",
        " 'sg1638' ,\n",
        " 'mg1299' ,\n",
        " 'vkk0022' ,\n",
        " 'bk0413' ,\n",
        " 'gk0257' ,\n",
        " 'am2807' ,\n",
        " 'gm0558' ,\n",
        " 'pm0658' ,\n",
        " 'am2346' ,\n",
        " 'rm1090' ,\n",
        " 'sm2364' ,\n",
        " 'sm2747' ,\n",
        " 'sm2343' ,\n",
        " 'vm0597' ,\n",
        " 'htn0086' ,\n",
        " 'sp2075' ,\n",
        " 'gp0306' ,\n",
        " 'lp0502' ,\n",
        " 'sr1508' ,\n",
        " 'vr0331' ,\n",
        " 'yr0180' ,\n",
        " 'as2819' ,\n",
        " 'ss2981' ,\n",
        " 'ns0756' ,\n",
        " 'mt0825' ,\n",
        " 'dt0463' ,\n",
        " 'su0137' ,\n",
        " 'dv0310'\n",
        "]"
      ]
    },
    {
      "cell_type": "code",
      "execution_count": 39,
      "metadata": {
        "id": "3iGbmcOBhTwy",
        "colab": {
          "base_uri": "https://localhost:8080/"
        },
        "outputId": "4d4d9092-499e-4c03-a9f9-aaa74552de0c"
      },
      "outputs": [
        {
          "output_type": "stream",
          "name": "stdout",
          "text": [
            "Group 1: ['sr1508', 'tc0469', 'mc1453', 'ad1187', 'as2819']\n",
            "Group 2: ['ab1820', 'mt0825', 'pm0658', 'ac1770', 'am2346']\n",
            "Group 3: ['ns0756', 'su0137', 'lp0502', 'htn0086', 'mg1299']\n",
            "Group 4: ['vkk0022', 'sm2343', 'gk0257', 'bk0413', 'mb1296', 'vm0597']\n",
            "Group 5: ['sc1622', 'gm0558', 'sp2075', 'lb0582', 'ss2981']\n",
            "Group 6: ['sd1268', 'vr0331', 'sm2747', 'sb1883', 'am2807']\n",
            "Group 7: ['sg1638', 'sm2364', 'sd0926', 'dv0310', 'rm1090', 'yr0180']\n",
            "Group 8: ['ag1609', 'gp0306', 'dt0463', 'sb1826']\n"
          ]
        }
      ],
      "source": [
        "import random\n",
        "student_list_fall_2023=['sb1826' , 'lb0582' , 'ab1820' , 'sb1883' , 'mb1296' , 'sc1622' , 'tc0469' , 'ac1770' , 'mc1453' , 'ad1187' , 'sd0926' , 'sd1268' , 'ag1609' , 'sg1638' , 'mg1299' , 'vkk0022' , 'bk0413' , 'gk0257' , 'am2807' , 'gm0558' , 'pm0658' , 'am2346' , 'rm1090' , 'sm2364' , 'sm2747' , 'sm2343' , 'vm0597' , 'htn0086' , 'sp2075' , 'gp0306' , 'lp0502' , 'sr1508' , 'vr0331' , 'yr0180' , 'as2819' , 'ss2981' , 'ns0756' , 'mt0825' , 'dt0463' , 'su0137' , 'dv0310' ]\n",
        "random.shuffle(student_list_fall_2023) #randomly shuffles the elements in the list\n",
        "groups = [] #empty list is created to store the student id's\n",
        "range_of_group_size = range(4, 7)  # size of group can be 4 to 6 people\n",
        "while len(student_list_fall_2023) >= min(range_of_group_size):\n",
        "    size_of_group = random.choice(range_of_group_size)\n",
        "    group = student_list_fall_2023[:size_of_group]\n",
        "    groups.append(group)\n",
        "    student_list_fall_2023 = student_list_fall_2023[size_of_group:]\n",
        "for group_num, group in enumerate(groups, start=1):\n",
        "    print(f\"Group {group_num}: {group}\")"
      ]
    },
    {
      "cell_type": "markdown",
      "metadata": {
        "id": "fmZ9vX20Qs3d"
      },
      "source": [
        "(16) Write a Python program to find the duplicate elements in a given array of integers. Return -1 If there are no such elements."
      ]
    },
    {
      "cell_type": "code",
      "source": [
        "sample_array = [1, 2, 3, 4, 2, 5, 6, 4, 7]\n",
        "checked_elements = set()\n",
        "first_duplicate = -1\n",
        "for num in sample_array: # here we are iterating the items in the lsit through for loop\n",
        "    if num in checked_elements:\n",
        "        duplicate_element = num\n",
        "        break\n",
        "    checked_elements.add(num)\n",
        "if duplicate_element != -1: #checking for the duplicate element is there in the sample array or not\n",
        "    print(\"First duplicate element is: \",duplicate_element)\n",
        "else:\n",
        "    print(-1)"
      ],
      "metadata": {
        "colab": {
          "base_uri": "https://localhost:8080/"
        },
        "id": "Aq4dhTOaMG4W",
        "outputId": "56ed82a1-eac1-4d7a-8f61-79238fc1ff60"
      },
      "execution_count": 112,
      "outputs": [
        {
          "output_type": "stream",
          "name": "stdout",
          "text": [
            "First duplicate element is:  2\n"
          ]
        }
      ]
    },
    {
      "cell_type": "markdown",
      "metadata": {
        "id": "hvq4APMhQs3d"
      },
      "source": [
        "(17) Write a Python program to select all the Sundays of a specified year."
      ]
    },
    {
      "cell_type": "code",
      "execution_count": 56,
      "metadata": {
        "id": "ZnoxhSglQs3d",
        "colab": {
          "base_uri": "https://localhost:8080/"
        },
        "outputId": "c76927d1-bc53-4c97-e335-52b5b1887c58"
      },
      "outputs": [
        {
          "output_type": "stream",
          "name": "stdout",
          "text": [
            "2000-01-02\n",
            "2000-01-09\n",
            "2000-01-16\n",
            "2000-01-23\n",
            "2000-01-30\n",
            "2000-02-06\n",
            "2000-02-13\n",
            "2000-02-20\n",
            "2000-02-27\n",
            "2000-03-05\n",
            "2000-03-12\n",
            "2000-03-19\n",
            "2000-03-26\n",
            "2000-04-02\n",
            "2000-04-09\n",
            "2000-04-16\n",
            "2000-04-23\n",
            "2000-04-30\n",
            "2000-05-07\n",
            "2000-05-14\n",
            "2000-05-21\n",
            "2000-05-28\n",
            "2000-06-04\n",
            "2000-06-11\n",
            "2000-06-18\n",
            "2000-06-25\n",
            "2000-07-02\n",
            "2000-07-09\n",
            "2000-07-16\n",
            "2000-07-23\n",
            "2000-07-30\n",
            "2000-08-06\n",
            "2000-08-13\n",
            "2000-08-20\n",
            "2000-08-27\n",
            "2000-09-03\n",
            "2000-09-10\n",
            "2000-09-17\n",
            "2000-09-24\n",
            "2000-10-01\n",
            "2000-10-08\n",
            "2000-10-15\n",
            "2000-10-22\n",
            "2000-10-29\n",
            "2000-11-05\n",
            "2000-11-12\n",
            "2000-11-19\n",
            "2000-11-26\n",
            "2000-12-03\n",
            "2000-12-10\n",
            "2000-12-17\n",
            "2000-12-24\n",
            "2000-12-31\n"
          ]
        }
      ],
      "source": [
        "from datetime import date, timedelta\n",
        "year= 2000\n",
        "first_date=date(year, 1, 1) #taking the first date of the year\n",
        "day_of_week = first_date.weekday()#finding the day of january 1st\n",
        "days_until_sunday = 6 - day_of_week\n",
        "sunday = first_date + timedelta(days=days_until_sunday)#initializing first sunday\n",
        "\n",
        "# here we are Iterateing through the year by adding 7 days to each Sunday to find next Sundays of whole year\n",
        "while sunday.year == year:\n",
        "    print(sunday.strftime(\"%Y-%m-%d\"))\n",
        "    sunday += timedelta(days=7)\n"
      ]
    },
    {
      "cell_type": "markdown",
      "source": [
        "(18) Build a program that calculates the factorial of a given positive integer. The factorial of a non-negative integer n is the product of all positive integers less than or equal to n."
      ],
      "metadata": {
        "id": "55FWoSJPVVM6"
      }
    },
    {
      "cell_type": "code",
      "source": [
        "a = int(input(\"Enter the number: \"))\n",
        "if a < 0:\n",
        "    print(\"Factorial is not possible if the number is negitive.\")\n",
        "    # Factorial is not possible if the number is negitive\n",
        "else:\n",
        "    fact = 1 #here we are initializing the fact value to 1 to start the factorial\n",
        "    for i in range(1, a+1): # here we are taking a the given number as limit to iterate the loop\n",
        "      fact = fact * i\n",
        "print(\"The factorial of given number is\",fact)\n"
      ],
      "metadata": {
        "id": "hwtr1wZmVX5A",
        "colab": {
          "base_uri": "https://localhost:8080/"
        },
        "outputId": "3082f514-068e-4903-f397-2325460184cc"
      },
      "execution_count": 72,
      "outputs": [
        {
          "output_type": "stream",
          "name": "stdout",
          "text": [
            "Enter the number: 4\n",
            "The factorial of given number is 24\n"
          ]
        }
      ]
    },
    {
      "cell_type": "markdown",
      "source": [
        "(19) Write a program that takes a positive integer n as input and prints the count of even numbers from 1 to n. Use a loop to iterate through the numbers and utilize the break statement to optimize the loop."
      ],
      "metadata": {
        "id": "Q9ecagcaVazW"
      }
    },
    {
      "cell_type": "code",
      "source": [
        "n = int(input(\"Enter a positive integer limit: \"))\n",
        "if n <= 0: #checking number is postive\n",
        "    print(\"Please enter a positive integer.\")\n",
        "else:\n",
        "    even_num_count = 0\n",
        "    for i in range(1, n+1): #passing each number through for loop with n as the limit\n",
        "        if i % 2 == 0: #checking whther the number is even or not\n",
        "            even_num_count += 1\n",
        "        if even_num_count == n // 2:\n",
        "            break\n",
        "    print(f\"Number of even numbers from 1 to {n} is {even_num_count}\")"
      ],
      "metadata": {
        "id": "gycgckoAVZjR",
        "colab": {
          "base_uri": "https://localhost:8080/"
        },
        "outputId": "9621b231-f5a0-42f5-e540-6112f06d9c4f"
      },
      "execution_count": 81,
      "outputs": [
        {
          "output_type": "stream",
          "name": "stdout",
          "text": [
            "Enter a positive integer limit: 8\n",
            "Number of even numbers from 1 to 8 is 4\n"
          ]
        }
      ]
    },
    {
      "cell_type": "markdown",
      "source": [
        "(20) Write a Python function called count_vowels that takes a string as input and returns the count of vowels (both lowercase and uppercase) present in the string. Consider the vowels to be 'a', 'e', 'i', 'o', and 'u'. Ignore spaces and other non-alphabetic characters."
      ],
      "metadata": {
        "id": "cboAr5pEWUf5"
      }
    },
    {
      "cell_type": "code",
      "source": [
        "def count_vowels(inp_string):\n",
        "    vowels = set(\"aeiouAEIOU\") #used set to initialize the vowels as sets are un-oredrd\n",
        "    count_of_vowels = 0\n",
        "    for i in inp_string:\n",
        "        # here we are checking if the character i is an alphabetic character and a vowel\n",
        "        if i.isalpha() and i in vowels:\n",
        "            count_of_vowels += 1   #if the charecter is an vowel then the count is added to count_of_vowels\n",
        "    return count_of_vowels\n",
        "inp_string = input(\"Enter a string: \")#taking the input\n",
        "result = count_vowels(inp_string)\n",
        "print(\"Count of vowels:\", result)"
      ],
      "metadata": {
        "id": "phs9gciMWWAW",
        "colab": {
          "base_uri": "https://localhost:8080/"
        },
        "outputId": "4cb358ad-fd20-41f9-970d-2d0d25f72c8c"
      },
      "execution_count": 86,
      "outputs": [
        {
          "output_type": "stream",
          "name": "stdout",
          "text": [
            "Enter a string: vikas\n",
            "Count of vowels: 2\n"
          ]
        }
      ]
    }
  ],
  "metadata": {
    "colab": {
      "provenance": [],
      "include_colab_link": true
    },
    "kernelspec": {
      "display_name": "Python 3 (ipykernel)",
      "language": "python",
      "name": "python3"
    },
    "language_info": {
      "codemirror_mode": {
        "name": "ipython",
        "version": 3
      },
      "file_extension": ".py",
      "mimetype": "text/x-python",
      "name": "python",
      "nbconvert_exporter": "python",
      "pygments_lexer": "ipython3",
      "version": "3.9.12"
    }
  },
  "nbformat": 4,
  "nbformat_minor": 0
}