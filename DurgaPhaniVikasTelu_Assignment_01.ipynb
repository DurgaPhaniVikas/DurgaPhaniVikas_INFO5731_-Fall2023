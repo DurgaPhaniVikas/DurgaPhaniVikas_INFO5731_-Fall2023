{
  "cells": [
    {
      "cell_type": "markdown",
      "metadata": {
        "id": "view-in-github",
        "colab_type": "text"
      },
      "source": [
        "<a href=\"https://colab.research.google.com/github/DurgaPhaniVikas/DurgaPhaniVikas_INFO5731_-Fall2023/blob/main/DurgaPhaniVikasTelu_Assignment_01.ipynb\" target=\"_parent\"><img src=\"https://colab.research.google.com/assets/colab-badge.svg\" alt=\"Open In Colab\"/></a>"
      ]
    },
    {
      "cell_type": "markdown",
      "metadata": {
        "id": "Ryk8D1Q4Wsrp"
      },
      "source": [
        "# **INFO5731 Assignment One**"
      ]
    },
    {
      "cell_type": "markdown",
      "metadata": {
        "id": "90_NR8c5XGWc"
      },
      "source": [
        "# Question 1\n",
        "\n",
        "(20 points). Write a Python program to generate 12 random numbers between 1 and 100. Sort the list of numbers in ascending order and print it out. Sort the list of numbers in descending order and print it out. Calculate the average for the group and print it out."
      ]
    },
    {
      "cell_type": "code",
      "execution_count": 35,
      "metadata": {
        "id": "5QX6bJjGWXY9",
        "colab": {
          "base_uri": "https://localhost:8080/"
        },
        "outputId": "9bf05111-2d07-434a-f62b-37e31192b897"
      },
      "outputs": [
        {
          "output_type": "stream",
          "name": "stdout",
          "text": [
            "Generated random numbers: [53, 34, 86, 87, 85, 35, 88, 74, 82, 21, 35, 58]\n",
            "Sorted in ascending order: [21, 34, 35, 35, 53, 58, 74, 82, 85, 86, 87, 88]\n",
            "Sorted in descending order: [88, 87, 86, 85, 82, 74, 58, 53, 35, 35, 34, 21]\n",
            "Average of the numbers: 61.5\n"
          ]
        }
      ],
      "source": [
        "import random\n",
        "\n",
        "# Generate 12 random numbers between 1 and 100\n",
        "#here we are using the random module to get the random numbers\n",
        "ran_num = [random.randint(1, 100) for _ in range(12)]\n",
        "#here we are using sorted method .by default it sorts in ascending order of the random numbers\n",
        "ascending_order = sorted(ran_num)\n",
        "# here we are using sorted method and we are passing an arugument of reverse as true to make it descending\n",
        "descending_order = sorted(ran_num, reverse=True)\n",
        "# here we are calculating the average\n",
        "avg = sum(ran_num) / len(ran_num)\n",
        "\n",
        "print(\"Generated random numbers:\", ran_num)\n",
        "print(\"Sorted in ascending order:\", ascending_order)\n",
        "print(\"Sorted in descending order:\", descending_order)\n",
        "print(\"Average of the numbers:\", avg)"
      ]
    },
    {
      "cell_type": "markdown",
      "metadata": {
        "id": "1F_PZdH9Sh49"
      },
      "source": [
        "# Question 2\n",
        "(25 points).\n",
        "\n",
        "Write a program that will do the following string formatting tasks:\n",
        "\n",
        "(1) Ask the user to enter two sentences.\n",
        "\n",
        "(2) Make each sentence into a list. Each element in the list should correspond to a word in the sentence. For example, if the sentence is \"Alas! Am I alive? This is my first python program\", the program should print out ['Alas, '!', 'Am', 'I', 'alive, '?', 'This', 'is', 'my', 'first', 'python', 'program'].\n",
        "\n",
        "(3) Compare the two sentences. Print out a list of words that occur in both sentences.\n",
        "\n",
        "(4) Remove any punctuation from the sentence and print it back out. It should remove at least the following characters, but it can remove more: period(“.”), comma (“,”), semicolon (“;”), and colon (“:”)\n",
        "\n",
        "(5) Count the number of vowels in the sentences. Print out each vowel and the number of times it appears in the sentences, such as: a:2, e:1, i:0, etc"
      ]
    },
    {
      "cell_type": "code",
      "execution_count": 34,
      "metadata": {
        "id": "Y0oOSlsOS0cq",
        "colab": {
          "base_uri": "https://localhost:8080/"
        },
        "outputId": "3af3827b-52ee-4cc8-9b03-14c0339031d1"
      },
      "outputs": [
        {
          "output_type": "stream",
          "name": "stdout",
          "text": [
            "Enter the first sentence: i am king\n",
            "Enter the second sentence: i am vikas\n",
            "Common words in both sentences: ['i', 'am']\n",
            "Count of vowels in the first input sentence: {'a': 1, 'e': 0, 'i': 2, 'o': 0, 'u': 0, 'A': 0, 'E': 0, 'I': 0, 'O': 0, 'U': 0}\n",
            "Count of vowels in the second input sentence: {'a': 2, 'e': 0, 'i': 2, 'o': 0, 'u': 0, 'A': 0, 'E': 0, 'I': 0, 'O': 0, 'U': 0}\n"
          ]
        }
      ],
      "source": [
        "import string\n",
        "\n",
        "# Function to split a sentence into words and remove punctuation\n",
        "def split_remove_punc(sentence):\n",
        "    words = []\n",
        "    for word in sentence.split():\n",
        "        word = word.strip(string.punctuation)\n",
        "        if word:\n",
        "            words.append(word)\n",
        "    return words\n",
        "\n",
        "# Function to count vowels in a sentence\n",
        "def count_of_vowels(sentence):\n",
        "    vowels_upper_lower = \"aeiouAEIOU\"\n",
        "    vowel_count = {vowel: 0 for vowel in vowels_upper_lower}\n",
        "\n",
        "    for char in sentence:\n",
        "        if char in vowels_upper_lower:\n",
        "            vowel_count[char.lower()] += 1\n",
        "\n",
        "    return vowel_count\n",
        "\n",
        "# input of 2 sentenses were taken\n",
        "sent_1 = input(\"Enter the first sentence: \")\n",
        "sent_2 = input(\"Enter the second sentence: \")\n",
        "\n",
        "# the given sentenses were splitted into lists\n",
        "splited_words_sent1 = split_remove_punc(sent_1)\n",
        "splited_words_sent2 = split_remove_punc(sent_2)\n",
        "\n",
        "# using and operator trying to comapare two input sentenses and finding common words\n",
        "common_words = list(set(splited_words_sent1) & set(splited_words_sent2))\n",
        "\n",
        "#  printing common words\n",
        "print(\"Common words in both sentences:\", common_words)\n",
        "\n",
        "# Step 5: Count vowels in both sentences\n",
        "vowel_count1 = count_of_vowels(sent_1)\n",
        "vowel_count2 = count_of_vowels(sent_2)\n",
        "\n",
        "# Print vowel counts for both sentences\n",
        "print(\"Count of vowels in the first input sentence:\", vowel_count1)\n",
        "print(\"Count of vowels in the second input sentence:\", vowel_count2)\n",
        "\n",
        "\n"
      ]
    },
    {
      "cell_type": "markdown",
      "metadata": {
        "id": "CmFoI4jDS9nx"
      },
      "source": [
        "# Question 3\n",
        "\n",
        "(15 points). The formula that describes the volume V of a sphere with radius r is the following:\n",
        "\n",
        "$ V=\\frac{4}{3}\\ast\\ \\pi\\ast\\ r^3 $\n",
        "\n",
        "Write a program to calculate the value of V when r is in the range of 1–10. Output the result in the following format:\n",
        "\n",
        "\tr\tV\n",
        "\t1\t…\n",
        "\t2\t…\n",
        "\t3\t…\n"
      ]
    },
    {
      "cell_type": "code",
      "execution_count": 36,
      "metadata": {
        "id": "pEyqeioAT95b",
        "colab": {
          "base_uri": "https://localhost:8080/"
        },
        "outputId": "c93fa0f3-c8d5-4acc-9fc2-b52de934791c"
      },
      "outputs": [
        {
          "output_type": "stream",
          "name": "stdout",
          "text": [
            "r    V\n",
            "1    4.19\n",
            "2    33.51\n",
            "3    113.10\n",
            "4    268.08\n",
            "5    523.60\n",
            "6    904.78\n",
            "7    1436.76\n",
            "8    2144.66\n",
            "9    3053.63\n",
            "10    4188.79\n"
          ]
        }
      ],
      "source": [
        "import math\n",
        "\n",
        "# Print header\n",
        "print(\"r    V\")\n",
        "\n",
        "# Here we are calculate each value of r from range of 1 to 10 and print the volume for each radius\n",
        "for r in range(1, 11):\n",
        "    V = (4/3) * math.pi * (r ** 3)\n",
        "    print(f\"{r}    {V:.2f}\")"
      ]
    },
    {
      "cell_type": "markdown",
      "metadata": {
        "id": "z3tBE7E-Xn5X"
      },
      "source": [
        "# Question 4\n",
        "\n",
        "(40 points). In the field of Data Science, data is often formatted as a comma-delimited (CSV) file, where each line in a file corresponds to a field's value. Refer to Chapter 9 (p. 106) for more information on comma-delimited files. To answer this question, you will need to download the file [Assignment1_denton_housing.csv](https://raw.githubusercontent.com/unt-iialab/info5731-spring2022/main/assignments/Assignment1_denton_housing.csv) included with this assignment. The file [Assignment1_denton_housing.csv](https://raw.githubusercontent.com/unt-iialab/info5731-spring2022/main/assignments/Assignment1_denton_housing.csv) contains statistics about housing in the city of Denton from 2008 to 2014. Write a program to implement the following questions.\n",
        "\n",
        "(1) (10 pts) Calculate the difference in the number of Occupied Housing Units from year to year and print it. The difference must be calculated for the consecutive years such as 2008-2009, 2009-2010 etc. Finally, print the values in the ascending order.\n",
        "\n",
        "(2) (10 pts) For all the years, calculate the percentage of housing units which are vacant an occupied. Print the results in the following format:\n",
        "\n",
        "Year Vacant Housing Units Occupied Housing Units\n",
        "\n",
        "    2008  30%   70%                          \n",
        "\t2009 ----- -----\n",
        "\t2010 ----- -----\n",
        "    2011 ----- -----\n",
        "\t2012 ----- -----\n",
        "    2013 ----- -----\n",
        "\t2014 ----- -----\n",
        "  \n",
        "  \n",
        "\n",
        "(3) (10 pts) Calculate and print the valued and years in which the highest number of housing units were vacant and occupied. Print the results in the following format:  \n",
        "\n",
        "                              Year\tValue\n",
        "\tVacant Housing Units\t  -----   -----\n",
        "\tOccupied Housing Units\t-----   -----\n",
        "\n",
        "(4) (10 pts) Calculate the harmonic mean of the total housing units and print it out. You can find the information about harmonic mean here: https://ncalculators.com/statistics/harmonic-mean-calculator.htm"
      ]
    },
    {
      "cell_type": "code",
      "execution_count": 33,
      "metadata": {
        "id": "lqGYuHBhcsRH",
        "colab": {
          "base_uri": "https://localhost:8080/"
        },
        "outputId": "eb94034d-5b92-4761-cff4-e8fb865a41ce"
      },
      "outputs": [
        {
          "output_type": "stream",
          "name": "stdout",
          "text": [
            "17    -795.0\n",
            "11    -303.0\n",
            "8     1404.0\n",
            "5     1565.0\n",
            "2     2622.0\n",
            "14    5091.0\n",
            "Name: value, dtype: float64\n",
            "Year  Vacant Housing Units  Occupied Housing Units\n",
            "2008    10.88%              89.12%\n",
            "2009    9.07%              90.93%\n",
            "2010    8.14%              91.86%\n",
            "2011    9.38%              90.62%\n",
            "2012    6.68%              93.32%\n",
            "2013    8.80%              91.20%\n",
            "2014    5.73%              94.27%\n",
            "Year    Value\n",
            "Vacant Housing Units      2008      4483\n",
            "Occupied Housing Units    2014      46295\n",
            "Harmonic Mean of Total Housing Units: 3657.434087880617\n"
          ]
        }
      ],
      "source": [
        "import pandas as pd\n",
        "import numpy as np\n",
        "\n",
        "# Specify the file path of the uploaded CSV file\n",
        "file_path = '/content/drive/MyDrive/dataset/Assignment1_denton_housing.csv'\n",
        "# Read the CSV file into a Pandas DataFrame\n",
        "df = pd.read_csv(file_path)\n",
        "#(1)\n",
        "# here we are filtering the DataFrame to only include rows with \"Occupied Housing Units\"\n",
        "occ_hou_units = df[df['title_field'] == 'Occupied Housing Units']\n",
        "\n",
        "# here we are sorting the dataFrame by year\n",
        "occ_hou_units = occ_hou_units.sort_values('year')\n",
        "\n",
        "# here we are calculating the differences between years\n",
        "diff_betw_years = occ_hou_units['value'].diff().dropna()\n",
        "\n",
        "# now we aresorting them in ascending order\n",
        "diff_betw_years_ao= diff_betw_years.sort_values()\n",
        "\n",
        "print(diff_betw_years_ao)\n",
        "# --------------------------------------------\n",
        "#(2)\n",
        "pivot_df = df.pivot(index='year', columns='title_field', values='value')\n",
        "\n",
        "# Calculate the percentage of vacant and occupied housing units\n",
        "pivot_df['Percentage_of_vhu'] = (pivot_df['Vacant Housing Units'] / pivot_df['Total Housing Units']) * 100\n",
        "pivot_df['Percentage_of_ohu'] = (pivot_df['Occupied Housing Units'] / pivot_df['Total Housing Units']) * 100\n",
        "\n",
        "print(\"Year  Vacant Housing Units  Occupied Housing Units\")\n",
        "for year, row in pivot_df.iterrows():\n",
        "    print(f\"{year}    {row['Percentage_of_vhu']:.2f}%              {row['Percentage_of_ohu']:.2f}%\")\n",
        "#--------------------------------------------------\n",
        "#(3)\n",
        "vhu_df = df[df['title_field'] == 'Vacant Housing Units']\n",
        "ohu_df = df[df['title_field'] == 'Occupied Housing Units']\n",
        "\n",
        "# here we are finding the highest number of vacant and occupied housing units with year and value as constraints\n",
        "highest_year_value_of_vhu = vhu_df.loc[vhu_df['value'].idxmax()]\n",
        "highest_year_value_of_ohu = ohu_df.loc[ohu_df['value'].idxmax()]\n",
        "\n",
        "print(\"Year    Value\")\n",
        "print(f\"Vacant Housing Units      {highest_year_value_of_vhu['year']}      {highest_year_value_of_vhu['value']}\")\n",
        "print(f\"Occupied Housing Units    {highest_year_value_of_ohu['year']}      {highest_year_value_of_ohu['value']}\")\n",
        "#--------------------------------------------------------\n",
        "#(4)\n",
        "# here we are calculating the harmonic mean of total housing units\n",
        "harmonic_mean = len(df) / np.sum(1 / df['value'])\n",
        "print(\"Harmonic Mean of Total Housing Units:\", harmonic_mean)"
      ]
    },
    {
      "cell_type": "code",
      "source": [
        "from google.colab import drive\n",
        "drive.mount('/content/drive')"
      ],
      "metadata": {
        "colab": {
          "base_uri": "https://localhost:8080/"
        },
        "id": "u_qh8Bbas90u",
        "outputId": "c03e41e3-300a-4a9a-e8ed-8149bfd92854"
      },
      "execution_count": 11,
      "outputs": [
        {
          "output_type": "stream",
          "name": "stdout",
          "text": [
            "Drive already mounted at /content/drive; to attempt to forcibly remount, call drive.mount(\"/content/drive\", force_remount=True).\n"
          ]
        }
      ]
    }
  ],
  "metadata": {
    "colab": {
      "provenance": [],
      "include_colab_link": true
    },
    "kernelspec": {
      "display_name": "Python 3 (ipykernel)",
      "language": "python",
      "name": "python3"
    },
    "language_info": {
      "codemirror_mode": {
        "name": "ipython",
        "version": 3
      },
      "file_extension": ".py",
      "mimetype": "text/x-python",
      "name": "python",
      "nbconvert_exporter": "python",
      "pygments_lexer": "ipython3",
      "version": "3.9.12"
    }
  },
  "nbformat": 4,
  "nbformat_minor": 0
}